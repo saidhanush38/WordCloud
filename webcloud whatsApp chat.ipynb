{
 "cells": [
  {
   "cell_type": "markdown",
   "id": "96790ffd",
   "metadata": {},
   "source": [
    "Import required library"
   ]
  },
  {
   "cell_type": "code",
   "execution_count": 42,
   "id": "a24a59e8",
   "metadata": {},
   "outputs": [],
   "source": [
    "import pandas as pd"
   ]
  },
  {
   "cell_type": "markdown",
   "id": "49fc8e6c",
   "metadata": {},
   "source": [
    "Load the WhatsApp chat\n",
    "\n",
    "To get chat: Goto WhatsApp Group ->  More options ->  More ->  Export chat ->  Without Media"
   ]
  },
  {
   "cell_type": "code",
   "execution_count": 43,
   "id": "57b63603",
   "metadata": {},
   "outputs": [],
   "source": [
    "text_file = 'chatwhats.txt'"
   ]
  },
  {
   "cell_type": "markdown",
   "id": "c4c7b306",
   "metadata": {},
   "source": [
    "Read the file and save it in a variable"
   ]
  },
  {
   "cell_type": "code",
   "execution_count": 44,
   "id": "dd8d3b38",
   "metadata": {},
   "outputs": [],
   "source": [
    "with open(text_file, mode='r', encoding='utf8') as f:\n",
    "   \n",
    "    data = f.readlines() "
   ]
  },
  {
   "cell_type": "markdown",
   "id": "dd493356",
   "metadata": {},
   "source": [
    "View the data"
   ]
  },
  {
   "cell_type": "code",
   "execution_count": null,
   "id": "e4619d51",
   "metadata": {},
   "outputs": [],
   "source": [
    "data"
   ]
  },
  {
   "cell_type": "markdown",
   "id": "d2a2b8d6",
   "metadata": {},
   "source": [
    "viewing the type of the data to proceed"
   ]
  },
  {
   "cell_type": "code",
   "execution_count": 46,
   "id": "14f4b26a",
   "metadata": {},
   "outputs": [
    {
     "data": {
      "text/plain": [
       "list"
      ]
     },
     "execution_count": 46,
     "metadata": {},
     "output_type": "execute_result"
    }
   ],
   "source": [
    "type(data)"
   ]
  },
  {
   "cell_type": "markdown",
   "id": "d08e63cb",
   "metadata": {},
   "source": [
    "Splitting the data "
   ]
  },
  {
   "cell_type": "code",
   "execution_count": 49,
   "id": "a1fb245f",
   "metadata": {},
   "outputs": [],
   "source": [
    "for line in data:\n",
    "    map(str,line.split(','))"
   ]
  },
  {
   "cell_type": "code",
   "execution_count": null,
   "id": "90ba8db5",
   "metadata": {},
   "outputs": [],
   "source": [
    "data"
   ]
  },
  {
   "cell_type": "markdown",
   "id": "b866798e",
   "metadata": {},
   "source": [
    "I need only people with extension VIT but one of my friend contact was named differently, so adding VIT to him."
   ]
  },
  {
   "cell_type": "code",
   "execution_count": 51,
   "id": "3b655f1a",
   "metadata": {
    "scrolled": true
   },
   "outputs": [],
   "source": [
    "for i in range(len(data)):\n",
    "    if 'name' in data[i]:\n",
    "        data[i] = data[i].replace('name','name Vit')"
   ]
  },
  {
   "cell_type": "code",
   "execution_count": null,
   "id": "201bd7c8",
   "metadata": {},
   "outputs": [],
   "source": [
    "data"
   ]
  },
  {
   "cell_type": "markdown",
   "id": "8c947993",
   "metadata": {},
   "source": [
    "Getting the data who are named with VIT as in my contact"
   ]
  },
  {
   "cell_type": "code",
   "execution_count": 53,
   "id": "b5a5781e",
   "metadata": {},
   "outputs": [],
   "source": [
    "data1 = []\n",
    "for line in data:\n",
    "    if 'Vit' in line:\n",
    "        data1.append(line)"
   ]
  },
  {
   "cell_type": "code",
   "execution_count": null,
   "id": "e25eb466",
   "metadata": {},
   "outputs": [],
   "source": [
    "data1"
   ]
  },
  {
   "cell_type": "markdown",
   "id": "9d66a4f7",
   "metadata": {},
   "source": [
    "Data in the text file will be in the following type:\n",
    "    \n",
    "day/month/year, min:sec - Name: Message"
   ]
  },
  {
   "cell_type": "markdown",
   "id": "1db84939",
   "metadata": {},
   "source": [
    "I need only names, where names are starting from the 16th index in the string of list\n",
    "\n",
    "So, storing the starting of the names into another list"
   ]
  },
  {
   "cell_type": "code",
   "execution_count": 55,
   "id": "d44e5110",
   "metadata": {},
   "outputs": [],
   "source": [
    "data2 = []\n",
    "for line in data1:\n",
    "    data2.append(line[16:])"
   ]
  },
  {
   "cell_type": "code",
   "execution_count": null,
   "id": "679e7508",
   "metadata": {},
   "outputs": [],
   "source": [
    "data2"
   ]
  },
  {
   "cell_type": "markdown",
   "id": "24274c51",
   "metadata": {},
   "source": [
    "Splitting the data and storing only the names to a list"
   ]
  },
  {
   "cell_type": "code",
   "execution_count": null,
   "id": "ac358feb",
   "metadata": {},
   "outputs": [],
   "source": [
    "data3=[]\n",
    "for line in data2:\n",
    "    data3.append(line.split(':')[0])"
   ]
  },
  {
   "cell_type": "markdown",
   "id": "da71f517",
   "metadata": {},
   "source": [
    "Replace all the spaces in between and the raw data\n",
    "\n",
    "Atlast, Wordcloud needs data splittes with space so, also replacing commas with space"
   ]
  },
  {
   "cell_type": "code",
   "execution_count": 61,
   "id": "d2fefcbc",
   "metadata": {},
   "outputs": [],
   "source": [
    "st=','\n",
    "\n",
    "strr = st.join(data3)\n",
    "names_txt = strr.replace(\" \",\"\").replace(\",\",\" \").replace(\"Vit\",\"\")"
   ]
  },
  {
   "cell_type": "markdown",
   "id": "2a9f0596",
   "metadata": {},
   "source": [
    "Viewing the whole string of names seperated with space"
   ]
  },
  {
   "cell_type": "code",
   "execution_count": null,
   "id": "179a36f7",
   "metadata": {},
   "outputs": [],
   "source": [
    "names_txt"
   ]
  },
  {
   "cell_type": "markdown",
   "id": "36d4bcb0",
   "metadata": {},
   "source": [
    "Import the wordcloud module\n",
    "\n",
    "To Install - pip install wordcloud"
   ]
  },
  {
   "cell_type": "code",
   "execution_count": null,
   "id": "4cbd623f",
   "metadata": {},
   "outputs": [],
   "source": [
    "from wordcloud import WordCloud, STOPWORDS\n",
    "import matplotlib.pyplot as plt"
   ]
  },
  {
   "cell_type": "markdown",
   "id": "69ae177a",
   "metadata": {
    "scrolled": true
   },
   "source": [
    "Creating an object for the wordcloud class\n",
    "\n",
    "The 'imshow' function is used to display the image and ' interpolation='bilinear' ' specifies that the image should be smoothly interpolated using bilinear interpolation. This can help improve the quality of the image, especially if it is being scaled up or down."
   ]
  },
  {
   "cell_type": "code",
   "execution_count": null,
   "id": "1e64dc19",
   "metadata": {
    "scrolled": true
   },
   "outputs": [],
   "source": [
    "wordcloud = WordCloud(width=2000, height=2000, margin=0).generate(names_txt)\n",
    "\n",
    "plt.imshow(wordcloud, interpolation='bilinear')\n",
    "plt.axis(\"off\")\n",
    "plt.margins(x=0, y=0)\n",
    "plt.show()"
   ]
  },
  {
   "cell_type": "markdown",
   "id": "812f246c",
   "metadata": {},
   "source": [
    "Using different color map and saving the picture"
   ]
  },
  {
   "cell_type": "code",
   "execution_count": null,
   "id": "ac40db93",
   "metadata": {},
   "outputs": [],
   "source": [
    "wordcloud = WordCloud(width=2000, height=2000, margin=0, background_color='salmon', colormap='Pastel1', collocations=False).generate(names_txt)\n",
    "\n",
    "\n",
    "plt.imshow(wordcloud, interpolation='bilinear')\n",
    "plt.axis(\"off\")\n",
    "plt.margins(x=0, y=0)\n",
    "plt.savefig('wee.jpg')"
   ]
  },
  {
   "cell_type": "markdown",
   "id": "53d40e61",
   "metadata": {},
   "source": [
    "Defining the figure properties"
   ]
  },
  {
   "cell_type": "code",
   "execution_count": 24,
   "id": "69305991",
   "metadata": {},
   "outputs": [],
   "source": [
    "def plot_cloud(wordcloud):\n",
    "    # Set figure size\n",
    "    plt.figure(figsize=(40, 30))\n",
    "    \n",
    "    # Display image\n",
    "    plt.imshow(wordcloud) \n",
    "    \n",
    "    # No axis details\n",
    "    plt.axis(\"off\");"
   ]
  },
  {
   "cell_type": "code",
   "execution_count": null,
   "id": "839ee506",
   "metadata": {},
   "outputs": [],
   "source": [
    "wordcloud = WordCloud(width = 3000, height = 2000, random_state=1, background_color='black', colormap='Set2', collocations=False).generate(names_txt)\n",
    "\n",
    "# Plot\n",
    "plot_cloud(wordcloud)"
   ]
  },
  {
   "cell_type": "markdown",
   "id": "1ac31b67",
   "metadata": {},
   "source": [
    "Finally, we got the required image with the bigger names who is more chatty and with smaller names who are lazy"
   ]
  }
 ],
 "metadata": {
  "kernelspec": {
   "display_name": "Python 3 (ipykernel)",
   "language": "python",
   "name": "python3"
  },
  "language_info": {
   "codemirror_mode": {
    "name": "ipython",
    "version": 3
   },
   "file_extension": ".py",
   "mimetype": "text/x-python",
   "name": "python",
   "nbconvert_exporter": "python",
   "pygments_lexer": "ipython3",
   "version": "3.11.1"
  }
 },
 "nbformat": 4,
 "nbformat_minor": 5
}
